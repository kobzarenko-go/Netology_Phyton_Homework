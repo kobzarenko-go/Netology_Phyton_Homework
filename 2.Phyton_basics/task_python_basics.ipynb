{
 "cells": [
  {
   "cell_type": "markdown",
   "metadata": {},
   "source": [
    "**Задание 1**. Даны 2 строки: *long_phrase* и *short_phrase*. \n",
    "Напишите код, который проверяет действительно ли длинная фраза *long_phrase* длиннее короткой *short_phrase*. И выводит *True* или *False* в зависимости от результата сравнения."
   ]
  },
  {
   "cell_type": "code",
   "execution_count": 6,
   "metadata": {},
   "outputs": [],
   "source": [
    "long_phrase = 'Насколько проще было бы писать программы, если бы не заказчики'\n",
    "short_phrase = '640Кб должно хватить для любых задач. Билл Гейтс (по легенде)'"
   ]
  },
  {
   "cell_type": "code",
   "execution_count": 6,
   "metadata": {},
   "outputs": [
    {
     "data": {
      "text/plain": [
       "True"
      ]
     },
     "execution_count": 6,
     "metadata": {},
     "output_type": "execute_result"
    }
   ],
   "source": [
    "long_phrase = 'Насколько проще было бы писать программы, если бы не заказчики'\n",
    "short_phrase = '640Кб должно хватить для любых задач. Билл Гейтс (по легенде)'\n",
    "len(long_phrase) > len(short_phrase)"
   ]
  },
  {
   "cell_type": "markdown",
   "metadata": {},
   "source": [
    "**Задание 2**. Дано значение объема файла в байтах (*в мегабайте 2^20 байт*). Напишите перевод этого значения в мегабайты в формате: \"*Объем файла равен 213.68Mb*\"."
   ]
  },
  {
   "cell_type": "code",
   "execution_count": 2,
   "metadata": {},
   "outputs": [
    {
     "name": "stdout",
     "output_type": "stream",
     "text": [
      "Калькулятор для перевода значения в байтах в мегабайты.\n",
      "Введите значение объема файла в байтах: 1048576\n",
      "Объем файла равен 1.0 Mb\n"
     ]
    }
   ],
   "source": [
    "print('Калькулятор для перевода значения в байтах в мегабайты.')\n",
    "user_input = int (input('Введите значение объема файла в байтах: '))\n",
    "print('Объем файла равен', user_input / 2 ** 20, 'Mb')"
   ]
  },
  {
   "cell_type": "markdown",
   "metadata": {},
   "source": [
    "**Задание 3**. Разработать приложение для определения знака зодиака по дате рождения. Пример:\n",
    "\n",
    "Введите месяц: март\n",
    "\n",
    "Введите число: 6\n",
    "\n",
    "Вывод:\n",
    "Рыбы"
   ]
  },
  {
   "cell_type": "code",
   "execution_count": 3,
   "metadata": {},
   "outputs": [
    {
     "name": "stdout",
     "output_type": "stream",
     "text": [
      "Приложение для определения знака зодиака по дате рождения.\n",
      "Введите месяц: декабрь\n",
      "Введите число: 7\n",
      "Вывод: Стрелец. Кстати, это и мой знак зодиака тоже :)\n"
     ]
    }
   ],
   "source": [
    "print('Приложение для определения знака зодиака по дате рождения.')\n",
    "user_input_month = input('Введите месяц: ')\n",
    "user_input_date = int (input('Введите число: '))\n",
    "if user_input_month == 'март' and user_input_date >= 21 or user_input_month == 'апрель' and user_input_date <= 20:\n",
    "    print ('Вывод: Овен')\n",
    "elif user_input_month == 'апрель' and user_input_date >= 21 or user_input_month == 'май' and user_input_date <= 21:\n",
    "    print ('Вывод: Телец')\n",
    "elif user_input_month == 'май' and user_input_date >= 22 or user_input_month == 'июнь' and user_input_date <= 21:\n",
    "    print ('Вывод: Близнецы')\n",
    "elif user_input_month == 'июнь' and user_input_date >= 22 or user_input_month == 'июль' and user_input_date <= 22:\n",
    "    print ('Вывод: Рак')\n",
    "elif user_input_month == 'июль' and user_input_date >= 23 or user_input_month == 'август' and user_input_date <= 23:\n",
    "    print ('Вывод: Лев')\n",
    "elif user_input_month == 'август' and user_input_date >= 24 or user_input_month == 'сентябрь' and user_input_date <= 22:\n",
    "    print ('Вывод: Дева')\n",
    "elif user_input_month == 'сентябрь' and user_input_date >= 23 or user_input_month == 'октябрь' and user_input_date <= 22:\n",
    "    print ('Вывод: Весы')\n",
    "elif user_input_month == 'октябрь' and user_input_date >= 23 or user_input_month == 'ноябрь' and user_input_date <= 22:\n",
    "    print ('Вывод: Скорпион')\n",
    "elif user_input_month == 'ноябрь' and user_input_date >= 22 or user_input_month == 'декабрь' and user_input_date <= 21:\n",
    "    print ('Вывод: Стрелец. Кстати, это и мой знак зодиака тоже :)')\n",
    "elif user_input_month == 'декабрь' and user_input_date >= 22 or user_input_month == 'январь' and user_input_date <= 20:\n",
    "    print ('Вывод: Козерог')\n",
    "elif user_input_month == 'январь' and user_input_date >= 21 or user_input_month == 'февраль' and user_input_date <= 19:\n",
    "    print ('Вывод: Водолей')\n",
    "elif user_input_month == 'февраль' and user_input_date >= 20 or user_input_month == 'март' and user_input_date <= 20:\n",
    "    print ('Вывод: Рыбы')"
   ]
  },
  {
   "cell_type": "markdown",
   "metadata": {},
   "source": [
    "**Задание 4**. Нужно разработать приложение для финансового планирования.\n",
    "Приложение учитывает сколько уходит на ипотеку, \"на жизнь\" и сколько нужно отложить на пенсию.\n",
    "Пользователь вводит:\n",
    "- заработанную плату в месяц.\n",
    "- сколько процентов от ЗП уходит на ипотеку.\n",
    "- сколько процентов от ЗП уходит \"на жизнь\".\n",
    "- сколько раз приходит премия в год.\n",
    "\n",
    "Остальная часть заработанной платы откладывается на пенсию.\n",
    "\n",
    "Также пользователю приходит премия в размере зарплаты, от которой половина уходит на отпуск, а вторая половина откладывается.\n",
    "\n",
    "Программа должна учитывать сколько премий было в год.\n",
    "\n",
    "Нужно вывести сколько денег тратит пользователь на ипотеку и сколько он накопит за год.\n",
    "\n",
    "Пример:\n",
    "\n",
    "Введите заработанную плату в месяц: 100000\n",
    "\n",
    "Введите сколько процентов уходит на ипотеку: 30\n",
    "\n",
    "Введите сколько процентов уходит на жизнь: 50\n",
    "\n",
    "Введите количество премий за год: 2\n",
    "\n",
    "Вывод:\n",
    "На ипотеку было потрачено: 360000 рублей\n",
    "Было накоплено: 340000 рублей"
   ]
  },
  {
   "cell_type": "code",
   "execution_count": 4,
   "metadata": {},
   "outputs": [
    {
     "name": "stdout",
     "output_type": "stream",
     "text": [
      "Приложение для финансового планирования.\n",
      "Введите заработанную плату в месяц, в руб.: 1000000\n",
      "Введите сколько процентов уходит на ипотеку, в %: 30\n",
      "Введите сколько процентов уходит на жизнь, в %: 50\n",
      "Введите количество премий за год, в шт.: 2\n",
      "Вывод: На ипотеку было потрачено: 3600000 рублей. Было накопленно:  3400000 рублей.\n",
      "*примечание: расчет действителен при условии, что Вы получаете премию в размере з/п, 1/2 к-ой тратите на отпуск, а вторую 1/2 откладываете.\n"
     ]
    }
   ],
   "source": [
    "print('Приложение для финансового планирования.')\n",
    "user_input_ZP = int (input('Введите заработанную плату в месяц, в руб.: '))\n",
    "user_input_IP = int (input('Введите сколько процентов уходит на ипотеку, в %: '))\n",
    "user_input_ZI = int (input('Введите сколько процентов уходит на жизнь, в %: '))\n",
    "user_input_KP = int (input('Введите количество премий за год, в шт.: '))\n",
    "print('Вывод: На ипотеку было потрачено:', round(user_input_ZP * 12 * user_input_IP / 100), 'рублей.', 'Было накопленно: ', round ( user_input_ZP * 0.5 * user_input_KP + user_input_ZP * 12 * (1 - user_input_IP / 100 - user_input_ZI / 100)) ,'рублей.')\n",
    "print('*примечание: расчет действителен при условии, что Вы получаете премию в размере з/п, 1/2 к-ой тратите на отпуск, а вторую 1/2 откладываете.')"
   ]
  }
 ],
 "metadata": {
  "kernelspec": {
   "display_name": "Python 3",
   "language": "python",
   "name": "python3"
  }
 },
 "nbformat": 4,
 "nbformat_minor": 2
}
