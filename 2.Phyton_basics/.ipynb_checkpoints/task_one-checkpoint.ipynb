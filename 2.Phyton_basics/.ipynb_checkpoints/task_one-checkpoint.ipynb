{
 "cells": [
  {
   "cell_type": "code",
   "execution_count": 1,
   "metadata": {},
   "outputs": [],
   "source": [
    "long_phrase = 'Насколько проще было бы писать программы, если бы не заказчики'\n",
    "short_phrase = '640Кб должно хватить для любых задач. Билл Гейтс (по легенде)'"
   ]
  },
  {
   "cell_type": "code",
   "execution_count": 3,
   "metadata": {},
   "outputs": [
    {
     "data": {
      "text/plain": [
       "True"
      ]
     },
     "execution_count": 3,
     "metadata": {},
     "output_type": "execute_result"
    }
   ],
   "source": [
    "len(long_phrase) > len (short_phrase)"
   ]
  },
  {
   "cell_type": "code",
   "execution_count": null,
   "metadata": {},
   "outputs": [
    {
     "name": "stdout",
     "output_type": "stream",
     "text": [
      "Калькулятор для перевода значения в байтах в мегабайты.\n"
     ]
    }
   ],
   "source": [
    "print('Калькулятор для перевода значения в байтах в мегабайты.')\n",
    "user_input = int (input('Введите значение объема файла в байтах: '))\n",
    "print('Объем файла равен', user_input / 2 ** 20, 'Mb')"
   ]
  },
  {
   "cell_type": "code",
   "execution_count": 59,
   "metadata": {},
   "outputs": [
    {
     "name": "stdout",
     "output_type": "stream",
     "text": [
      "Приложение для определения знака зодиака по дате рождения.\n",
      "Введите месяц: июнь\n",
      "Введите число: 14\n",
      "Вывод: Близнец\n"
     ]
    }
   ],
   "source": [
    "print('Приложение для определения знака зодиака по дате рождения.')\n",
    "user_input = input('Введите месяц: ')\n",
    "if user_input == 'март':\n",
    "    user_input = int (input('Введите число: '))\n",
    "    if user_input > 20:   \n",
    "        print ('Вывод: Овен')\n",
    "    else:\n",
    "        print ('Вывод: Рыбы')\n",
    "elif user_input == 'апрель':\n",
    "    user_input = int (input('Введите число: '))\n",
    "    if user_input > 20:   \n",
    "        print ('Вывод: Телец')\n",
    "    else:\n",
    "        print ('Вывод: Овен')\n",
    "elif user_input == 'май':\n",
    "    user_input = int (input('Введите число: '))\n",
    "    if user_input > 21:   \n",
    "        print ('Вывод: Близнец')\n",
    "    else:\n",
    "        print ('Вывод: Телец')\n",
    "elif user_input == 'июнь':\n",
    "    user_input = int (input('Введите число: '))\n",
    "    if user_input > 21:   \n",
    "        print ('Вывод: Рак')\n",
    "    else:\n",
    "        print ('Вывод: Близнец')\n",
    "elif user_input == 'июль':\n",
    "    user_input = int (input('Введите число: '))\n",
    "    if user_input > 22:   \n",
    "        print ('Вывод: Лев')\n",
    "    else:\n",
    "        print ('Вывод: Рак')\n",
    "elif user_input == 'август':\n",
    "    user_input = int (input('Введите число: '))\n",
    "    if user_input > 23:   \n",
    "        print ('Вывод: Дева')\n",
    "    else:\n",
    "        print ('Вывод: Лев')\n",
    "elif user_input == 'сентябрь':\n",
    "    user_input = int (input('Введите число: '))\n",
    "    if user_input > 22:   \n",
    "        print ('Вывод: Весы')\n",
    "    else:\n",
    "        print ('Вывод: Дева')\n",
    "elif user_input == 'октябрь':\n",
    "    user_input = int (input('Введите число: '))\n",
    "    if user_input > 22:   \n",
    "        print ('Вывод: Скорпион')\n",
    "    else:\n",
    "        print ('Вывод: Весы')\n",
    "elif user_input == 'ноябрь':\n",
    "    user_input = int (input('Введите число: '))\n",
    "    if user_input > 22:   \n",
    "        print ('Вывод: Стрелец. Кстати, это и мой знак зодиака тоже :)')\n",
    "    else:\n",
    "        print ('Вывод: Скорпион')\n",
    "elif user_input == 'декабрь':\n",
    "    user_input = int (input('Введите число: '))\n",
    "    if user_input > 21:   \n",
    "        print ('Вывод: Козерог')\n",
    "    else:\n",
    "        print ('Вывод: Стрелец. Кстати, это и мой знак зодиака тоже :)')\n",
    "elif user_input == 'январь':\n",
    "    user_input = int (input('Введите число: '))\n",
    "    if user_input > 20:   \n",
    "        print ('Вывод: Водолей')\n",
    "    else:\n",
    "        print ('Вывод: Козерог')\n",
    "elif user_input == 'февраль':\n",
    "    user_input = int (input('Введите число: '))\n",
    "    if user_input > 19:   \n",
    "        print ('Вывод: Рыбы')\n",
    "    else:\n",
    "        print ('Вывод: Водолей')"
   ]
  },
  {
   "cell_type": "code",
   "execution_count": 6,
   "metadata": {},
   "outputs": [
    {
     "name": "stdout",
     "output_type": "stream",
     "text": [
      "Приложение для определения знака зодиака по дате рождения.\n",
      "Введите месяц: декабрь\n",
      "Введите число: 1\n",
      "Вывод: Стрелец. Кстати, это и мой знак зодиака тоже :)\n"
     ]
    }
   ],
   "source": [
    "print('Приложение для определения знака зодиака по дате рождения.')\n",
    "user_input_month = input('Введите месяц: ')\n",
    "user_input_date = int (input('Введите число: '))\n",
    "if user_input_month == 'март' and user_input_date >= 21 or user_input_month == 'апрель' and user_input_date <= 20:\n",
    "    print ('Вывод: Овен')\n",
    "elif user_input_month == 'апрель' and user_input_date >= 21 or user_input_month == 'май' and user_input_date <= 21:\n",
    "    print ('Вывод: Телец')\n",
    "elif user_input_month == 'май' and user_input_date >= 22 or user_input_month == 'июнь' and user_input_date <= 21:\n",
    "    print ('Вывод: Близнецы')\n",
    "elif user_input_month == 'июнь' and user_input_date >= 22 or user_input_month == 'июль' and user_input_date <= 22:\n",
    "    print ('Вывод: Рак')\n",
    "elif user_input_month == 'июль' and user_input_date >= 23 or user_input_month == 'август' and user_input_date <= 23:\n",
    "    print ('Вывод: Лев')\n",
    "elif user_input_month == 'август' and user_input_date >= 24 or user_input_month == 'сентябрь' and user_input_date <= 22:\n",
    "    print ('Вывод: Дева')\n",
    "elif user_input_month == 'сентябрь' and user_input_date >= 23 or user_input_month == 'октябрь' and user_input_date <= 22:\n",
    "    print ('Вывод: Весы')\n",
    "elif user_input_month == 'октябрь' and user_input_date >= 23 or user_input_month == 'ноябрь' and user_input_date <= 22:\n",
    "    print ('Вывод: Скорпион')\n",
    "elif user_input_month == 'ноябрь' and user_input_date >= 22 or user_input_month == 'декабрь' and user_input_date <= 21:\n",
    "    print ('Вывод: Стрелец. Кстати, это и мой знак зодиака тоже :)')\n",
    "elif user_input_month == 'декабрь' and user_input_date >= 22 or user_input_month == 'январь' and user_input_date <= 20:\n",
    "    print ('Вывод: Козерог')\n",
    "elif user_input_month == 'январь' and user_input_date >= 21 or user_input_month == 'февраль' and user_input_date <= 19:\n",
    "    print ('Вывод: Водолей')\n",
    "elif user_input_month == 'февраль' and user_input_date >= 20 or user_input_month == 'март' and user_input_date <= 20:\n",
    "    print ('Вывод: Рыбы')"
   ]
  },
  {
   "cell_type": "code",
   "execution_count": 8,
   "metadata": {},
   "outputs": [
    {
     "name": "stdout",
     "output_type": "stream",
     "text": [
      "Приложение для финансового планирования.\n",
      "Введите заработанную плату в месяц, в руб.: 100000\n",
      "Введите сколько процентов уходит на ипотеку, в %: 30\n",
      "Введите сколько процентов уходит на жизнь, в %: 50\n",
      "Введите количество премий за год, в шт.: 2\n",
      "Вывод: На ипотеку было потрачено: 360000 рублей. Было накопленно:  340000 рублей.\n",
      "*примечание: расчет действителен при условии, что Вы получаете премию в размере з/п, 1/2 к-ой тратите на отпуск, а вторую 1/2 откладываете.\n"
     ]
    }
   ],
   "source": [
    "print('Приложение для финансового планирования.')\n",
    "user_input_ZP = int (input('Введите заработанную плату в месяц, в руб.: '))\n",
    "user_input_IP = int (input('Введите сколько процентов уходит на ипотеку, в %: '))\n",
    "user_input_ZI = int (input('Введите сколько процентов уходит на жизнь, в %: '))\n",
    "user_input_KP = int (input('Введите количество премий за год, в шт.: '))\n",
    "print('Вывод: На ипотеку было потрачено:', round(user_input_ZP * 12 * user_input_IP / 100), 'рублей.', 'Было накопленно: ', round ( user_input_ZP * 0.5 * user_input_KP + user_input_ZP * 12 * (1 - user_input_IP / 100 - user_input_ZI / 100)) ,'рублей.')\n",
    "print('*примечание: расчет действителен при условии, что Вы получаете премию в размере з/п, 1/2 к-ой тратите на отпуск, а вторую 1/2 откладываете.')"
   ]
  },
  {
   "cell_type": "code",
   "execution_count": null,
   "metadata": {},
   "outputs": [],
   "source": []
  }
 ],
 "metadata": {
  "kernelspec": {
   "display_name": "Python 3",
   "language": "python",
   "name": "python3"
  },
  "language_info": {
   "codemirror_mode": {
    "name": "ipython",
    "version": 3
   },
   "file_extension": ".py",
   "mimetype": "text/x-python",
   "name": "python",
   "nbconvert_exporter": "python",
   "pygments_lexer": "ipython3",
   "version": "3.7.6"
  }
 },
 "nbformat": 4,
 "nbformat_minor": 4
}
